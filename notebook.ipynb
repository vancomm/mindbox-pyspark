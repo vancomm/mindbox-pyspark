{
 "cells": [
  {
   "cell_type": "markdown",
   "metadata": {},
   "source": [
    "1. Создаем сессию Spark"
   ]
  },
  {
   "cell_type": "code",
   "execution_count": 1,
   "metadata": {},
   "outputs": [
    {
     "name": "stderr",
     "output_type": "stream",
     "text": [
      "your 131072x1 screen size is bogus. expect trouble\n",
      "24/07/19 23:33:12 WARN Utils: Your hostname, vancomm-pc resolves to a loopback address: 127.0.1.1; using 172.18.109.114 instead (on interface eth0)\n",
      "24/07/19 23:33:12 WARN Utils: Set SPARK_LOCAL_IP if you need to bind to another address\n",
      "Setting default log level to \"WARN\".\n",
      "To adjust logging level use sc.setLogLevel(newLevel). For SparkR, use setLogLevel(newLevel).\n",
      "24/07/19 23:33:14 WARN NativeCodeLoader: Unable to load native-hadoop library for your platform... using builtin-java classes where applicable\n"
     ]
    }
   ],
   "source": [
    "from pyspark.sql import SparkSession\n",
    "\n",
    "spark = SparkSession.builder.getOrCreate()"
   ]
  },
  {
   "cell_type": "markdown",
   "metadata": {},
   "source": [
    "2. Создаем датафрейм продуктов"
   ]
  },
  {
   "cell_type": "code",
   "execution_count": 2,
   "metadata": {},
   "outputs": [
    {
     "name": "stderr",
     "output_type": "stream",
     "text": [
      "                                                                                \r"
     ]
    },
    {
     "name": "stdout",
     "output_type": "stream",
     "text": [
      "+----------+------------+\n",
      "|product_id|product_name|\n",
      "+----------+------------+\n",
      "|         1|       Apple|\n",
      "|         2|       Peach|\n",
      "|         3|        Milk|\n",
      "|         4|      Cheese|\n",
      "|         5|      Butter|\n",
      "|         6|   Candy bar|\n",
      "|         7| Chewing gum|\n",
      "+----------+------------+\n",
      "\n"
     ]
    }
   ],
   "source": [
    "import itertools\n",
    "from pyspark.sql import Row\n",
    "\n",
    "product_ids = itertools.count(1)\n",
    "\n",
    "products = spark.createDataFrame(\n",
    "    [\n",
    "        Row(product_id=next(product_ids), product_name=\"Apple\"),\n",
    "        Row(product_id=next(product_ids), product_name=\"Peach\"),\n",
    "        Row(product_id=next(product_ids), product_name=\"Milk\"),\n",
    "        Row(product_id=next(product_ids), product_name=\"Cheese\"),\n",
    "        Row(product_id=next(product_ids), product_name=\"Butter\"),\n",
    "        Row(product_id=next(product_ids), product_name=\"Candy bar\"),\n",
    "        Row(product_id=next(product_ids), product_name=\"Chewing gum\"),\n",
    "    ]\n",
    ")\n",
    "products.show()"
   ]
  },
  {
   "cell_type": "markdown",
   "metadata": {},
   "source": [
    "3. Создаем датафрейм категорий"
   ]
  },
  {
   "cell_type": "code",
   "execution_count": 3,
   "metadata": {},
   "outputs": [
    {
     "name": "stdout",
     "output_type": "stream",
     "text": [
      "+-----------+-------------+\n",
      "|category_id|category_name|\n",
      "+-----------+-------------+\n",
      "|          1|      Produce|\n",
      "|          2|        Dairy|\n",
      "|          3|     Discount|\n",
      "+-----------+-------------+\n",
      "\n"
     ]
    }
   ],
   "source": [
    "category_ids = itertools.count(1)\n",
    "\n",
    "categories = spark.createDataFrame(\n",
    "    [\n",
    "        Row(category_id=next(category_ids), category_name=\"Produce\"),\n",
    "        Row(category_id=next(category_ids), category_name=\"Dairy\"),\n",
    "        Row(category_id=next(category_ids), category_name=\"Discount\"),\n",
    "    ]\n",
    ")\n",
    "categories.show()"
   ]
  },
  {
   "cell_type": "markdown",
   "metadata": {},
   "source": [
    "4. Создаем датафрейм связей \"продукт-категория\""
   ]
  },
  {
   "cell_type": "code",
   "execution_count": 4,
   "metadata": {},
   "outputs": [],
   "source": [
    "product_categories = spark.createDataFrame(\n",
    "    [\n",
    "        Row(product_id=1, category_id=1),\n",
    "        Row(product_id=2, category_id=1),\n",
    "        Row(product_id=2, category_id=3),\n",
    "        Row(product_id=3, category_id=2),\n",
    "        Row(product_id=4, category_id=2),\n",
    "        Row(product_id=5, category_id=2),\n",
    "        Row(product_id=5, category_id=3),\n",
    "        Row(product_id=7, category_id=3),\n",
    "    ]\n",
    ")"
   ]
  },
  {
   "cell_type": "markdown",
   "metadata": {},
   "source": [
    "5. Соединяем продукты с категориями, используя LEFT JOIN"
   ]
  },
  {
   "cell_type": "code",
   "execution_count": 5,
   "metadata": {},
   "outputs": [
    {
     "name": "stderr",
     "output_type": "stream",
     "text": [
      "                                                                                \r"
     ]
    },
    {
     "name": "stdout",
     "output_type": "stream",
     "text": [
      "+------------+-------------+\n",
      "|product_name|category_name|\n",
      "+------------+-------------+\n",
      "|       Apple|      Produce|\n",
      "|        Milk|        Dairy|\n",
      "|       Peach|     Discount|\n",
      "|       Peach|      Produce|\n",
      "|      Butter|     Discount|\n",
      "|      Butter|        Dairy|\n",
      "|      Cheese|        Dairy|\n",
      "| Chewing gum|     Discount|\n",
      "|   Candy bar|         NULL|\n",
      "+------------+-------------+\n",
      "\n"
     ]
    }
   ],
   "source": [
    "df = (\n",
    "    products.join(product_categories, on=\"product_id\", how=\"left\")\n",
    "    .join(categories, on=\"category_id\", how=\"left\")\n",
    "    .select([\"product_name\", \"category_name\"])\n",
    ")\n",
    "df.show()"
   ]
  },
  {
   "cell_type": "markdown",
   "metadata": {},
   "source": [
    "6. Выводим все пары \"имя продукта-имя категории\" и имена всех продуктов, у которых нет категорий"
   ]
  },
  {
   "cell_type": "code",
   "execution_count": 6,
   "metadata": {},
   "outputs": [
    {
     "name": "stderr",
     "output_type": "stream",
     "text": [
      "                                                                                \r"
     ]
    },
    {
     "name": "stdout",
     "output_type": "stream",
     "text": [
      "[('Peach', 'Produce'),\n",
      " ('Apple', 'Produce'),\n",
      " ('Butter', 'Dairy'),\n",
      " ('Cheese', 'Dairy'),\n",
      " ('Milk', 'Dairy'),\n",
      " ('Chewing gum', 'Discount'),\n",
      " ('Butter', 'Discount'),\n",
      " ('Peach', 'Discount')]\n",
      "['Candy bar']\n"
     ]
    }
   ],
   "source": [
    "from pprint import pprint\n",
    "\n",
    "products_with_categories, uncategorized_products = (\n",
    "    df.where(df[\"category_name\"].isNotNull())\n",
    "    .rdd.map(tuple)\n",
    "    .collect(),\n",
    "    df.where(df[\"category_name\"].isNull())\n",
    "    .select(\"product_name\")\n",
    "    .toPandas()[\"product_name\"]\n",
    "    .tolist(),\n",
    ")\n",
    "\n",
    "pprint(products_with_categories)\n",
    "pprint(uncategorized_products)"
   ]
  }
 ],
 "metadata": {
  "kernelspec": {
   "display_name": "sandbox",
   "language": "python",
   "name": "python3"
  },
  "language_info": {
   "codemirror_mode": {
    "name": "ipython",
    "version": 3
   },
   "file_extension": ".py",
   "mimetype": "text/x-python",
   "name": "python",
   "nbconvert_exporter": "python",
   "pygments_lexer": "ipython3",
   "version": "3.12.4"
  }
 },
 "nbformat": 4,
 "nbformat_minor": 2
}
